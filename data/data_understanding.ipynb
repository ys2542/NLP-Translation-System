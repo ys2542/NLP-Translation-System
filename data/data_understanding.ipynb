{
 "cells": [
  {
   "cell_type": "code",
   "execution_count": 1,
   "metadata": {
    "collapsed": true
   },
   "outputs": [],
   "source": [
    "import random\n",
    "from scipy import stats\n",
    "import matplotlib.pyplot as plt \n",
    "import seaborn as sns\n",
    "import torch\n",
    "import torch.nn as nn\n",
    "from torch import optim\n",
    "import torch.nn.functional as F\n",
    "from torch.utils.data import Dataset\n",
    "import re"
   ]
  },
  {
   "cell_type": "code",
   "execution_count": 2,
   "metadata": {
    "collapsed": true
   },
   "outputs": [],
   "source": [
    "device = torch.device('cuda' if torch.cuda.is_available() else 'cpu')"
   ]
  },
  {
   "cell_type": "markdown",
   "metadata": {},
   "source": [
    "## Load Data and Build Vocabulary\n",
    "1. load data\n",
    "2. data > pairs\n",
    "3. pairs > vocabulary"
   ]
  },
  {
   "cell_type": "code",
   "execution_count": 3,
   "metadata": {
    "collapsed": true
   },
   "outputs": [],
   "source": [
    "SOS_token = 0\n",
    "EOS_token = 1\n",
    "UNK_token = 2\n",
    "class Lang:\n",
    "    \"\"\"\n",
    "    a helper class to store word2index, index2word and word2count\n",
    "    \"\"\"\n",
    "    def __init__(self, name):\n",
    "        self.name = name\n",
    "        self.word2index = {}\n",
    "        self.word2count = {}\n",
    "        self.index2word = {0:'SOS', 1:'EOS', 2:'UNK'}\n",
    "        self.n_words = 3\n",
    "    \n",
    "    def addWord(self, word):\n",
    "        if word not in self.word2index:\n",
    "            self.word2index[word] = self.n_words\n",
    "            self.word2count[word] = 1\n",
    "            self.index2word[self.n_words] = word\n",
    "            self.n_words += 1\n",
    "        else:\n",
    "            self.word2count[word] += 1\n",
    "    \n",
    "    def addSentence(self, sentence):\n",
    "        for word in sentence.split(' '):\n",
    "            self.addWord(word)"
   ]
  },
  {
   "cell_type": "code",
   "execution_count": 24,
   "metadata": {
    "collapsed": true
   },
   "outputs": [],
   "source": [
    "def readLangs(lang1, lang2):\n",
    "    \"\"\"\n",
    "    read data from file and turn it into pairs\n",
    "    @lang1: input language file\n",
    "    @lang2: output language file\n",
    "    @output: empty class lang1, empty class lang2, pairs\n",
    "    \"\"\"\n",
    "    # file path\n",
    "    if lang1[-2:] == 'zh' or lang2[-2:] == 'zh':\n",
    "        fname = 'iwslt-zh-en-processed/'\n",
    "    else:\n",
    "        fname = 'iwslt-vi-en-processed/'\n",
    "        \n",
    "    # load data from file and split into sentences\n",
    "    input_data = open(fname+lang1, encoding='utf-8').read().split('\\n')\n",
    "    output_data = open(fname+lang2, encoding='utf-8').read().split('\\n')\n",
    "    \n",
    "    pairs = list(zip(input_data,output_data))\n",
    "    return Lang(lang1[-2:]), Lang(lang2[-2:]), pairs"
   ]
  },
  {
   "cell_type": "code",
   "execution_count": 25,
   "metadata": {
    "collapsed": true
   },
   "outputs": [],
   "source": [
    "def prepareData(lang1,lang2):\n",
    "    \"\"\"\n",
    "    make vocabulary from sentences in pairs\n",
    "    @lang1: input language file\n",
    "    @lang2: output language file\n",
    "    @output: well-defined class lang1&lang2, pairs\n",
    "    \"\"\"\n",
    "    input_lang, output_lang, pairs = readLangs(lang1,lang2)\n",
    "    for pair in pairs:\n",
    "        input_lang.addSentence(pair[0])\n",
    "        output_lang.addSentence(pair[1])\n",
    "    # how many words in vocabulary\n",
    "    print(input_lang.name, input_lang.n_words)\n",
    "    print(output_lang.name, output_lang.n_words)\n",
    "    return input_lang, output_lang, pairs"
   ]
  },
  {
   "cell_type": "markdown",
   "metadata": {},
   "source": [
    "- Data exploration"
   ]
  },
  {
   "cell_type": "code",
   "execution_count": 26,
   "metadata": {},
   "outputs": [
    {
     "name": "stdout",
     "output_type": "stream",
     "text": [
      "Counted words\n",
      "en-zh:\n",
      "zh 91143\n",
      "en 69126\n",
      "zh 4973\n",
      "en 4018\n",
      "zh 4264\n",
      "en 3523\n",
      "\n",
      "en-vi:\n",
      "vi 42152\n",
      "en 54173\n",
      "vi 3918\n",
      "en 3921\n",
      "vi 3698\n",
      "en 3731\n"
     ]
    }
   ],
   "source": [
    "# zh2en data: lang_zh, lang_en, pairs_zh_en\n",
    "print('Counted words')\n",
    "print('en-zh:')\n",
    "lang_zh, lang_en_zh, train_pairs_zh = prepareData('train.tok.zh','train.tok.en')\n",
    "_, _, val_pairs_zh = prepareData('dev.tok.zh','dev.tok.en')\n",
    "_, _, test_pairs_zh = prepareData('test.tok.zh','test.tok.en')\n",
    "# vi2en data\n",
    "print('\\nen-vi:')\n",
    "lang_vi, lang_en_vi, train_pairs_vi = prepareData('train.tok.vi','train.tok.en')\n",
    "_, _, val_pairs_vi = prepareData('dev.tok.vi','dev.tok.en')\n",
    "_, _, test_pairs_vi = prepareData('test.tok.vi','test.tok.en')"
   ]
  },
  {
   "cell_type": "code",
   "execution_count": 28,
   "metadata": {},
   "outputs": [
    {
     "name": "stdout",
     "output_type": "stream",
     "text": [
      "Counted pairs\n",
      "en-zh:\n",
      "train: 213378\n",
      "val: 1262\n",
      "test: 1398 \n",
      "\n",
      "en-vi:\n",
      "train: 133318\n",
      "val: 1269\n",
      "test: 1554\n"
     ]
    }
   ],
   "source": [
    "# how many pairs in data\n",
    "print('Counted pairs')\n",
    "print('en-zh:')\n",
    "print('train:',len(train_pairs_zh))\n",
    "print('val:',len(val_pairs_zh))\n",
    "print('test:',len(test_pairs_zh),'\\n')\n",
    "\n",
    "print('en-vi:')\n",
    "print('train:',len(train_pairs_vi))\n",
    "print('val:',len(val_pairs_vi))\n",
    "print('test:',len(test_pairs_vi))"
   ]
  },
  {
   "cell_type": "code",
   "execution_count": 45,
   "metadata": {},
   "outputs": [
    {
     "name": "stdout",
     "output_type": "stream",
     "text": [
      "我 看到 了 这 一点 ， 我 感到 那 是 很 震撼人心 的 \n",
      "So I saw that and it was very humbling .\n"
     ]
    }
   ],
   "source": [
    "# a random pair\n",
    "pair = random.choice(train_pairs_zh)\n",
    "print(pair[0])\n",
    "print(pair[1])"
   ]
  },
  {
   "cell_type": "markdown",
   "metadata": {},
   "source": [
    "- Sentence length distribution analysis"
   ]
  },
  {
   "cell_type": "code",
   "execution_count": 46,
   "metadata": {},
   "outputs": [
    {
     "name": "stdout",
     "output_type": "stream",
     "text": [
      "zh:\n",
      "DescribeResult(nobs=213378, minmax=(0, 1644), mean=51.037754595131645, variance=1620.6168136630547, skewness=3.9361002481965075, kurtosis=59.82519018988801)\n",
      "en_zh:\n",
      "DescribeResult(nobs=213378, minmax=(0, 2995), mean=102.04151786969604, variance=6045.232406459892, skewness=3.6861094301954123, kurtosis=55.93428180554448)\n",
      "vi:\n",
      "DescribeResult(nobs=133318, minmax=(0, 3213), mean=100.97906509248564, variance=6167.879914569583, skewness=4.173414718744769, kurtosis=70.02043524078353)\n",
      "en_vi:\n",
      "DescribeResult(nobs=133318, minmax=(0, 2752), mean=101.02826325027378, variance=5970.31146443494, skewness=4.019613096175187, kurtosis=65.21254641543968)\n"
     ]
    }
   ],
   "source": [
    "zh_len, en_zh_len = [], []\n",
    "vi_len, en_vi_len = [], []\n",
    "for pair in train_pairs_zh:\n",
    "    zh_len.append(len(pair[0]))\n",
    "    en_zh_len.append(len(pair[1]))\n",
    "for pair in train_pairs_vi:\n",
    "    vi_len.append(len(pair[0]))\n",
    "    en_vi_len.append(len(pair[1]))\n",
    "\n",
    "print('zh:')\n",
    "print(stats.describe(zh_len))\n",
    "print('en_zh:')\n",
    "print(stats.describe(en_zh_len))\n",
    "print('vi:')\n",
    "print(stats.describe(vi_len))\n",
    "print('en_vi:')\n",
    "print(stats.describe(en_vi_len))"
   ]
  },
  {
   "cell_type": "code",
   "execution_count": 59,
   "metadata": {},
   "outputs": [
    {
     "name": "stderr",
     "output_type": "stream",
     "text": [
      "/Users/ice/anaconda/lib/python3.5/site-packages/scipy/stats/stats.py:1633: FutureWarning: Using a non-tuple sequence for multidimensional indexing is deprecated; use `arr[tuple(seq)]` instead of `arr[seq]`. In the future this will be interpreted as an array index, `arr[np.array(seq)]`, which will result either in an error or a different result.\n",
      "  return np.add.reduce(sorted[indexer] * weights, axis=axis) / sumval\n"
     ]
    },
    {
     "data": {
      "image/png": "[encoded data removed]",
      "text/plain": [
       "<matplotlib.figure.Figure at 0x1268c7e80>"
      ]
     },
     "metadata": {},
     "output_type": "display_data"
    }
   ],
   "source": [
    "plt.close('all')\n",
    "sns.distplot(zh_len,color='pink',label='zh')\n",
    "sns.distplot(en_zh_len,color='skyblue',label='en')\n",
    "plt.xlim([0,500])\n",
    "plt.xlabel('length')\n",
    "plt.ylabel('prob')\n",
    "plt.legend()\n",
    "plt.title('en & zh sentence length distribution')\n",
    "sns.despine()\n",
    "plt.show()"
   ]
  },
  {
   "cell_type": "code",
   "execution_count": 48,
   "metadata": {},
   "outputs": [
    {
     "name": "stdout",
     "output_type": "stream",
     "text": [
      "91\n"
     ]
    }
   ],
   "source": [
    "length_zh = sorted(en_zh_len)\n",
    "MAX_LENGTH_ZH = en_zh_len[int(len(en_zh_len)*0.99)]\n",
    "print(MAX_LENGTH_ZH)"
   ]
  },
  {
   "cell_type": "code",
   "execution_count": null,
   "metadata": {
    "collapsed": true
   },
   "outputs": [],
   "source": []
  }
 ],
 "metadata": {
  "kernelspec": {
   "display_name": "Python 3",
   "language": "python",
   "name": "python3"
  },
  "language_info": {
   "codemirror_mode": {
    "name": "ipython",
    "version": 3
   },
   "file_extension": ".py",
   "mimetype": "text/x-python",
   "name": "python",
   "nbconvert_exporter": "python",
   "pygments_lexer": "ipython3",
   "version": "3.5.4"
  }
 },
 "nbformat": 4,
 "nbformat_minor": 2
}
